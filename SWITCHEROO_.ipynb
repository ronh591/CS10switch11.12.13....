{
  "nbformat": 4,
  "nbformat_minor": 0,
  "metadata": {
    "colab": {
      "private_outputs": true,
      "provenance": [],
      "authorship_tag": "ABX9TyMs3R2orc9uzqHwq2k0avOQ",
      "include_colab_link": true
    },
    "kernelspec": {
      "name": "python3",
      "display_name": "Python 3"
    },
    "language_info": {
      "name": "python"
    }
  },
  "cells": [
    {
      "cell_type": "markdown",
      "metadata": {
        "id": "view-in-github",
        "colab_type": "text"
      },
      "source": [
        "<a href=\"https://colab.research.google.com/github/ronh591/CS10switch11.12.13..../blob/main/SWITCHEROO_.ipynb\" target=\"_parent\"><img src=\"https://colab.research.google.com/assets/colab-badge.svg\" alt=\"Open In Colab\"/></a>"
      ]
    },
    {
      "cell_type": "code",
      "execution_count": null,
      "metadata": {
        "id": "nyOXgEGvZ1LA"
      },
      "outputs": [],
      "source": []
    },
    {
      "cell_type": "code",
      "source": [],
      "metadata": {
        "id": "kED54cfeaJrE"
      },
      "execution_count": null,
      "outputs": []
    },
    {
      "cell_type": "code",
      "source": [
        "#include <iostream>\n",
        "#include <string>\n",
        "using namespace std;\n",
        "\n",
        "void getFunction(int input); // Forward declaration\n",
        "\n",
        "void playgame() {\n",
        "  cout << \"thanks for playing\" << endl;\n",
        "}\n",
        "\n",
        "void loadgame() {\n",
        "  cout << \"load game\" << endl;\n",
        "}\n",
        "\n",
        "void playmultiplayer() {\n",
        "  cout << \"more than 2 players\" << endl;\n",
        "}\n",
        "\n",
        "void setData() {\n",
        "  int input;\n",
        "\n",
        "  cout << \"1. play game\\n\";\n",
        "  cout << \"2. load game\\n\";\n",
        "  cout << \"3. play multiplayer\\n\";\n",
        "  cout << \"4. exit \\n\";\n",
        "  cout << \"selection: \";\n",
        "  cin >> input;\n",
        "\n",
        "  // Call getFunction here\n",
        "  getFunction(input);\n",
        "}\n",
        "\n",
        "void getFunction(int input) {\n",
        "  if (input == 1) {\n",
        "    playgame();\n",
        "  } else if (input == 2) {\n",
        "    loadgame();\n",
        "  } else if (input == 3) {\n",
        "    playmultiplayer();\n",
        "  } else if (input == 4) {\n",
        "    cout << \"thank you for playing!\\n\";\n",
        "  } else {\n",
        "    cout << \"error, bad input, quitting\\n\";\n",
        "  }\n",
        "}\n",
        "\n",
        "int main() {\n",
        "  setData();\n",
        "}\n"
      ],
      "metadata": {
        "id": "24yjtKCVaJxF"
      },
      "execution_count": null,
      "outputs": []
    }
  ]
}